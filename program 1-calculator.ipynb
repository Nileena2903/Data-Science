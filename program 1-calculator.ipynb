{
 "cells": [
  {
   "cell_type": "code",
   "execution_count": 29,
   "id": "a2f7815d",
   "metadata": {},
   "outputs": [
    {
     "name": "stdout",
     "output_type": "stream",
     "text": [
      "first number=8\n",
      "second number=0\n",
      "\n",
      "1.addition\n",
      "2.substraction\n",
      "3.multiplication\n",
      "4.division\n",
      "enter your choice :4\n",
      "\n",
      "cannot divisible by zero\n"
     ]
    }
   ],
   "source": [
    "x=int(input(\"first number=\"))\n",
    "y=int(input(\"second number=\"))\n",
    "print(\"\\n1.addition\\n2.substraction\\n3.multiplication\\n4.division\")\n",
    "c=int(input(\"enter your choice :\"))\n",
    "if(c==1):\n",
    "    print(\"\\naddition\\n\",x,\"+\",y,\"=\",x+y)\n",
    "elif(c==2):\n",
    "    print(\"\\nsubstraction\\n\",x,\"-\",y,\"=\",x-y)\n",
    "elif(c==3):\n",
    "    print(\"\\nmultiplication\\n\",x,\"*\",y,\"=\",x*y)\n",
    "elif(c==4):\n",
    "    if(y!=0):\n",
    "        print(\"\\ndivision\\n\",x,\"/\",y,\"=\",x/y)\n",
    "    else:\n",
    "        print(\"\\ncannot divisible by zero\")\n",
    "else:\n",
    "    print(\"invalid choice\")\n"
   ]
  },
  {
   "cell_type": "code",
   "execution_count": null,
   "id": "dd3b300b",
   "metadata": {},
   "outputs": [],
   "source": []
  },
  {
   "cell_type": "code",
   "execution_count": null,
   "id": "68c72649",
   "metadata": {},
   "outputs": [],
   "source": []
  }
 ],
 "metadata": {
  "kernelspec": {
   "display_name": "Python 3 (ipykernel)",
   "language": "python",
   "name": "python3"
  },
  "language_info": {
   "codemirror_mode": {
    "name": "ipython",
    "version": 3
   },
   "file_extension": ".py",
   "mimetype": "text/x-python",
   "name": "python",
   "nbconvert_exporter": "python",
   "pygments_lexer": "ipython3",
   "version": "3.11.4"
  }
 },
 "nbformat": 4,
 "nbformat_minor": 5
}
