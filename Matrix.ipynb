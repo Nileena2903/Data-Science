{
 "cells": [
  {
   "cell_type": "code",
   "execution_count": 2,
   "id": "d826cdea",
   "metadata": {},
   "outputs": [
    {
     "name": "stdout",
     "output_type": "stream",
     "text": [
      "Addition :\n",
      "[[ 6 10]\n",
      " [ 8 13]]\n",
      "Substraction :\n",
      "[[-2 -2]\n",
      " [ 4  3]]\n",
      "Element-wise Multiplication :\n",
      "[[ 8 24]\n",
      " [12 40]]\n",
      "Multiplication :\n",
      "[[16 32]\n",
      " [40 76]]\n",
      "Transpose :\n",
      "[[2 6]\n",
      " [4 8]]\n"
     ]
    }
   ],
   "source": [
    "import numpy as np\n",
    "#create matrix\n",
    "x=np.array([[2,4],[6,8]])\n",
    "y=np.array([[4,6],[2,5]])\n",
    "#matrix addition\n",
    "a=x+y\n",
    "#matrix substraction\n",
    "b=x-y\n",
    "#element-wise multiplication\n",
    "c=x*y\n",
    "#matrix multiplication\n",
    "d=np.dot(x,y)\n",
    "#matrix transpose\n",
    "e=x.T\n",
    "print(\"Addition :\")\n",
    "print(a)\n",
    "print(\"Substraction :\")\n",
    "print(b)\n",
    "print(\"Element-wise Multiplication :\")\n",
    "print(c)\n",
    "print(\"Multiplication :\")\n",
    "print(d)\n",
    "print(\"Transpose :\")\n",
    "print(e)"
   ]
  },
  {
   "cell_type": "code",
   "execution_count": 3,
   "id": "d5f9201c",
   "metadata": {},
   "outputs": [
    {
     "name": "stdout",
     "output_type": "stream",
     "text": [
      "Original matrix :\n",
      "[[2 4 6]\n",
      " [1 3 5]\n",
      " [2 3 4]]\n",
      "\n",
      "Reconstructed Matrix(with reduced dimensions) :\n",
      "[[2. 4. 6.]\n",
      " [1. 3. 5.]\n",
      " [2. 3. 4.]]\n"
     ]
    }
   ],
   "source": [
    "#WITH SVD \n",
    "\n",
    "import numpy as np\n",
    "#create a simple Matrix\n",
    "a=np.array([[2,4,6],[1,3,5],[2,3,4]])\n",
    "#perform SVD\n",
    "U,S,VT=np.linalg.svd(a)\n",
    "#Choose the number of components to keep(eg:2)\n",
    "components=2\n",
    "#Reconstruct the matrix with reduced dimensions\n",
    "construct_a=np.dot(U[:,:components],np.dot(np.diag(S[:components]),VT[:components,:]))\n",
    "print(\"Original matrix :\")\n",
    "print(a)\n",
    "print(\"\\nReconstructed Matrix(with reduced dimensions) :\")\n",
    "print(construct_a)"
   ]
  },
  {
   "cell_type": "code",
   "execution_count": null,
   "id": "3b42a7e9",
   "metadata": {},
   "outputs": [],
   "source": []
  }
 ],
 "metadata": {
  "kernelspec": {
   "display_name": "Python 3 (ipykernel)",
   "language": "python",
   "name": "python3"
  },
  "language_info": {
   "codemirror_mode": {
    "name": "ipython",
    "version": 3
   },
   "file_extension": ".py",
   "mimetype": "text/x-python",
   "name": "python",
   "nbconvert_exporter": "python",
   "pygments_lexer": "ipython3",
   "version": "3.11.4"
  }
 },
 "nbformat": 4,
 "nbformat_minor": 5
}
